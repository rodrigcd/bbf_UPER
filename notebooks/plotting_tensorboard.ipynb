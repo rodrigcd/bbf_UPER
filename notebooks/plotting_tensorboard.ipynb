{
 "cells": [
  {
   "cell_type": "code",
   "execution_count": 13,
   "id": "1384c6f8-4528-4c6c-a833-b947d362ceb7",
   "metadata": {},
   "outputs": [],
   "source": [
    "from packaging import version\n",
    "\n",
    "import pandas as pd\n",
    "from matplotlib import pyplot as plt\n",
    "import seaborn as sns\n",
    "from scipy import stats\n",
    "import tensorboard as tb\n",
    "import numpy as np\n",
    "from tensorboard.backend.event_processing import event_accumulator\n",
    "import os"
   ]
  },
  {
   "cell_type": "code",
   "execution_count": 8,
   "id": "19c87109-b362-4fd6-9fd9-05041fab43d8",
   "metadata": {},
   "outputs": [
    {
     "name": "stdout",
     "output_type": "stream",
     "text": [
      "TensorBoard version:  2.18.0\n"
     ]
    }
   ],
   "source": [
    "major_ver, minor_ver, _ = version.parse(tb.__version__).release\n",
    "assert major_ver >= 2 and minor_ver >= 3, \\\n",
    "    \"This notebook requires TensorBoard 2.3 or later.\"\n",
    "print(\"TensorBoard version: \", tb.__version__)"
   ]
  },
  {
   "cell_type": "code",
   "execution_count": 12,
   "id": "1c7c21c4-6a67-42c4-9ebd-0da7c03ed01b",
   "metadata": {},
   "outputs": [
    {
     "name": "stdout",
     "output_type": "stream",
     "text": [
      "/nfs/nhome/live/rcdavis/bbf_UPER/notebooks\n"
     ]
    }
   ],
   "source": [
    "!pwd"
   ]
  },
  {
   "cell_type": "code",
   "execution_count": 16,
   "id": "a8b10d90-7810-4cd4-bfe6-c0d9b48d7e9f",
   "metadata": {},
   "outputs": [],
   "source": [
    "ex_result = \"/nfs/nhome/live/rcdavis/bbf_UPER/results/default/ChopperCommand_default_1/\""
   ]
  },
  {
   "cell_type": "code",
   "execution_count": 17,
   "id": "6e935883-99f6-4bbe-8567-da08b63211cd",
   "metadata": {},
   "outputs": [],
   "source": [
    "ea = event_accumulator.EventAccumulator(os.path.join(ex_result, 'events.out.tfevents.1732946462.gpu-xd670-30.3047159.0.v2'))"
   ]
  },
  {
   "cell_type": "code",
   "execution_count": 18,
   "id": "0b77284f-6701-4f07-8659-5456b6d1528b",
   "metadata": {},
   "outputs": [
    {
     "data": {
      "text/plain": [
       "<tensorboard.backend.event_processing.event_accumulator.EventAccumulator at 0x7fe861c1bdf0>"
      ]
     },
     "execution_count": 18,
     "metadata": {},
     "output_type": "execute_result"
    }
   ],
   "source": [
    "ea.Reload()"
   ]
  },
  {
   "cell_type": "code",
   "execution_count": 19,
   "id": "6fa962c2-9cd1-4eab-a1c9-ab7ce8eedaf5",
   "metadata": {},
   "outputs": [
    {
     "data": {
      "text/plain": [
       "{'images': [],\n",
       " 'audio': [],\n",
       " 'histograms': [],\n",
       " 'scalars': [],\n",
       " 'distributions': [],\n",
       " 'tensors': ['Train/EpisodeLength',\n",
       "  'Train/EpisodeReturn',\n",
       "  'Train/EpisodeNormalizedScore',\n",
       "  'DQNLoss',\n",
       "  'GradNorm',\n",
       "  'SPRLoss',\n",
       "  'TD Error',\n",
       "  'TotalLoss',\n",
       "  'batchDQNLoss',\n",
       "  'batch_info_gain',\n",
       "  'batch_td_error',\n",
       "  'PNorm',\n",
       "  'Inter-batch time',\n",
       "  'Training time',\n",
       "  'Sampling time',\n",
       "  'Set priority time',\n",
       "  'Online Churn',\n",
       "  'Target Churn',\n",
       "  'Online-Target Agreement',\n",
       "  'Online Off-Policy Rate',\n",
       "  'Target Off-Policy Rate',\n",
       "  'train_episode_returns',\n",
       "  'train_episode_lengths',\n",
       "  'Train/NumEpisodes',\n",
       "  'Train/AverageReturns',\n",
       "  'Train/AverageNormalizedScore',\n",
       "  'Train/AverageStepsPerSecond',\n",
       "  'Eval/NumEpisodes',\n",
       "  'Eval/AverageReturns',\n",
       "  'Eval/NormalizedScore'],\n",
       " 'graph': False,\n",
       " 'meta_graph': False,\n",
       " 'run_metadata': []}"
      ]
     },
     "execution_count": 19,
     "metadata": {},
     "output_type": "execute_result"
    }
   ],
   "source": [
    "ea.Tags()"
   ]
  },
  {
   "cell_type": "code",
   "execution_count": null,
   "id": "152dd900-1e05-4185-b388-d08a2088d543",
   "metadata": {},
   "outputs": [],
   "source": [
    "ea.Scalars('Loss')"
   ]
  }
 ],
 "metadata": {
  "kernelspec": {
   "display_name": "Python 3 (ipykernel)",
   "language": "python",
   "name": "python3"
  },
  "language_info": {
   "codemirror_mode": {
    "name": "ipython",
    "version": 3
   },
   "file_extension": ".py",
   "mimetype": "text/x-python",
   "name": "python",
   "nbconvert_exporter": "python",
   "pygments_lexer": "ipython3",
   "version": "3.10.6"
  }
 },
 "nbformat": 4,
 "nbformat_minor": 5
}
